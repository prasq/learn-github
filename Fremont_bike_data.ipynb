{
  "nbformat": 4,
  "nbformat_minor": 0,
  "metadata": {
    "colab": {
      "name": "Fremont_bike_data.ipynb",
      "provenance": [],
      "authorship_tag": "ABX9TyO0GhvPY2USiVhjw2kLOqq4",
      "include_colab_link": true
    },
    "kernelspec": {
      "name": "python3",
      "display_name": "Python 3"
    }
  },
  "cells": [
    {
      "cell_type": "markdown",
      "metadata": {
        "id": "view-in-github",
        "colab_type": "text"
      },
      "source": [
        "<a href=\"https://colab.research.google.com/github/prasq/learn-github/blob/r2/Fremont_bike_data.ipynb\" target=\"_parent\"><img src=\"https://colab.research.google.com/assets/colab-badge.svg\" alt=\"Open In Colab\"/></a>"
      ]
    },
    {
      "cell_type": "code",
      "metadata": {
        "id": "5PO0NMCkd9eF",
        "colab_type": "code",
        "colab": {}
      },
      "source": [
        "URL_csv = 'https://data.seattle.gov/resource/65db-xm6k.csv'\n",
        "\n",
        "URL_json= 'https://data.seattle.gov/resource/65db-xm6k.json'\n"
      ],
      "execution_count": 0,
      "outputs": []
    },
    {
      "cell_type": "code",
      "metadata": {
        "id": "OIlVo1NUfUxB",
        "colab_type": "code",
        "colab": {
          "base_uri": "https://localhost:8080/",
          "height": 35
        },
        "outputId": "b7ea4459-cbf0-42a5-a4a6-09ecbf96981a"
      },
      "source": [
        "from urllib.request import urlretrieve\n",
        "urlretrieve(URL_csv,'Fremont.csv')"
      ],
      "execution_count": 7,
      "outputs": [
        {
          "output_type": "execute_result",
          "data": {
            "text/plain": [
              "('Fremont.csv', <http.client.HTTPMessage at 0x7f546116ea20>)"
            ]
          },
          "metadata": {
            "tags": []
          },
          "execution_count": 7
        }
      ]
    },
    {
      "cell_type": "code",
      "metadata": {
        "id": "NoUUWHZhgcHC",
        "colab_type": "code",
        "colab": {}
      },
      "source": [
        "import pandas as pd\n",
        "df = pd.read_csv('Fremont.csv')\n",
        "df2 = pd.read_csv('Fremont.csv',index_col = 'date' ,parse_dates = True)\n",
        "#print(df.head())\n",
        "df.head()\n"
      ],
      "execution_count": 0,
      "outputs": []
    },
    {
      "cell_type": "code",
      "metadata": {
        "id": "1w0kgjiZhKek",
        "colab_type": "code",
        "colab": {}
      },
      "source": [
        "df2.head()"
      ],
      "execution_count": 0,
      "outputs": []
    },
    {
      "cell_type": "code",
      "metadata": {
        "id": "mk0XmFNqhzbR",
        "colab_type": "code",
        "colab": {}
      },
      "source": [
        "%matplotlib inline\n",
        "#df2.plot()\n",
        "#df2.resample('W').sum().plot()\n"
      ],
      "execution_count": 0,
      "outputs": []
    },
    {
      "cell_type": "code",
      "metadata": {
        "id": "Qhlm0N7lktm4",
        "colab_type": "code",
        "colab": {}
      },
      "source": [
        "import matplotlib.pyplot as plt\n",
        "plt.style.use('seaborn')\n",
        "#df2['Total'] = df2['fremont_bridge'] + df2['fremont_bridge_sb'] + df2['fremont_bridge_nb']\n",
        "#df2.columns = ['West','East']\n",
        "ax = df2.resample('W').sum().plot();\n",
        "#ax = df2.resample('D').sum().rolling(365).sum().plot();\n",
        "ax.set_ylim(0,None);"
      ],
      "execution_count": 0,
      "outputs": []
    },
    {
      "cell_type": "code",
      "metadata": {
        "id": "poyZuZMRnbLQ",
        "colab_type": "code",
        "colab": {}
      },
      "source": [
        "df2.groupby(df2.index.time).mean().plot();"
      ],
      "execution_count": 0,
      "outputs": []
    },
    {
      "cell_type": "code",
      "metadata": {
        "id": "qqkBno28q5pd",
        "colab_type": "code",
        "colab": {}
      },
      "source": [
        "pivoted = df2.pivot_table('Total',index = df2.index.time, columns = df2.index.date)\n",
        "pivoted.iloc[:5,:5]"
      ],
      "execution_count": 0,
      "outputs": []
    },
    {
      "cell_type": "code",
      "metadata": {
        "id": "er6DJA-QseN_",
        "colab_type": "code",
        "colab": {}
      },
      "source": [
        "#pivoted.plot(legend= False, alpha =0.1)"
      ],
      "execution_count": 0,
      "outputs": []
    },
    {
      "cell_type": "code",
      "metadata": {
        "id": "E77e7Bb0s-U6",
        "colab_type": "code",
        "colab": {}
      },
      "source": [
        ""
      ],
      "execution_count": 0,
      "outputs": []
    }
  ]
}